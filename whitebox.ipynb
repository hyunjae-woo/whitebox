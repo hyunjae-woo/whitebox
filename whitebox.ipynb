{
 "cells": [
  {
   "cell_type": "markdown",
   "metadata": {},
   "source": [
    "### Import packages"
   ]
  },
  {
   "cell_type": "code",
   "execution_count": 1,
   "metadata": {},
   "outputs": [],
   "source": [
    "# python v. 3.8\n",
    "from sklearn.model_selection import train_test_split\n",
    "from sklearn.linear_model import MultiTaskElasticNetCV\n",
    "from sklearn import preprocessing\n",
    "import pandas as pd\n",
    "import numpy as np\n",
    "import warnings\n",
    "warnings.filterwarnings('ignore')"
   ]
  },
  {
   "attachments": {},
   "cell_type": "markdown",
   "metadata": {},
   "source": [
    "**Import data**\n",
    "\n",
    "* The simulated flux data is imported and preprocessed for training data (X_train).\n",
    "* Y data represents 3 antibiotics, CIP,"
   ]
  },
  {
   "cell_type": "code",
   "execution_count": 2,
   "metadata": {},
   "outputs": [],
   "source": [
    "X_data = pd.read_csv('X_train.csv',  encoding='cp949',index_col='iJO1366 Reaction')  \n",
    "y_data = pd.read_csv('y_train.csv', encoding='cp949', index_col='iJO1366 Reaction')\n",
    "\n",
    "y_train = y_data.values\n",
    "y_train_AMP = y_data.values[:,0] \n",
    "y_train_CIP = y_data.values[:,1]  \n",
    "y_train_GENT = y_data.values[:2]\n",
    "\n",
    "X_train_scaled = preprocessing.StandardScaler().fit_transform(X_data)"
   ]
  },
  {
   "attachments": {},
   "cell_type": "markdown",
   "metadata": {},
   "source": [
    "### **Machine learning with ElasticNet regression**"
   ]
  },
  {
   "cell_type": "code",
   "execution_count": 6,
   "metadata": {},
   "outputs": [],
   "source": [
    "#Hyperparameter setting\n",
    "MTEN = MultiTaskElasticNetCV( n_alphas=100, tol = 1e-6, cv=50, n_jobs=1, l1_ratio=[0.015])\n",
    "\n",
    "#Train the model\n",
    "trained_MTEN = MTEN.fit(X_train_scaled,y_train)\n"
   ]
  },
  {
   "attachments": {},
   "cell_type": "markdown",
   "metadata": {},
   "source": [
    "Extract & filter the coefficients of the trained model."
   ]
  },
  {
   "cell_type": "code",
   "execution_count": 7,
   "metadata": {},
   "outputs": [],
   "source": [
    "processed_data = pd.DataFrame(trained_MTEN.coef_, columns=X_data.columns , index=['AMP IC50', 'CIP IC50', 'DENT IC50'])\n",
    "processed_data.to_csv('whitebox_coef.csv')\n"
   ]
  }
 ],
 "metadata": {
  "kernelspec": {
   "display_name": ".venv",
   "language": "python",
   "name": "python3"
  },
  "language_info": {
   "codemirror_mode": {
    "name": "ipython",
    "version": 3
   },
   "file_extension": ".py",
   "mimetype": "text/x-python",
   "name": "python",
   "nbconvert_exporter": "python",
   "pygments_lexer": "ipython3",
   "version": "3.10.6"
  }
 },
 "nbformat": 4,
 "nbformat_minor": 2
}
