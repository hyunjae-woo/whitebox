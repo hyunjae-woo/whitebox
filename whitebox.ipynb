{
 "cells": [
  {
   "cell_type": "markdown",
   "metadata": {},
   "source": [
    "**import package**"
   ]
  },
  {
   "cell_type": "code",
   "execution_count": 1,
   "metadata": {},
   "outputs": [],
   "source": [
    "# python version. 3.8.10\n",
    "from sklearn.model_selection import train_test_split\n",
    "from sklearn.linear_model import MultiTaskElasticNetCV\n",
    "from sklearn import preprocessing\n",
    "import pandas as pd\n",
    "import numpy as np\n",
    "import warnings\n",
    "warnings.filterwarnings('ignore')"
   ]
  },
  {
   "attachments": {},
   "cell_type": "markdown",
   "metadata": {},
   "source": [
    "**Import & Preprocess data**\n",
    "\n",
    "* X,y training data is extracted from the journal\n",
    "* The simulated flux data is imported and preprocessed for training data (X_train).\n",
    "* Y data represents 3 antibiotics, AMP, CIP,GENT"
   ]
  },
  {
   "cell_type": "code",
   "execution_count": 2,
   "metadata": {},
   "outputs": [],
   "source": [
    "X_data = pd.read_csv('X_train.csv',  encoding='cp949',index_col='iJO1366 Reaction')  \n",
    "y_data = pd.read_csv('y_train.csv', encoding='cp949', index_col='iJO1366 Reaction')\n",
    "\n",
    "y_train = y_data.values\n",
    "y_train_AMP = y_data.values[:,0] \n",
    "y_train_CIP = y_data.values[:,1]  \n",
    "y_train_GENT = y_data.values[:2]\n",
    "\n",
    "X_train_scaled = preprocessing.StandardScaler().fit_transform(X_data)"
   ]
  },
  {
   "attachments": {},
   "cell_type": "markdown",
   "metadata": {},
   "source": [
    "**Machine learning with ElasticNet regression**\n",
    "\n",
    "Hyperparameter setting"
   ]
  },
  {
   "cell_type": "code",
   "execution_count": null,
   "metadata": {},
   "outputs": [],
   "source": [
    "#Hyperparameter setting\n",
    "# Full explanation at https://scikit-learn.org/stable/modules/generated/sklearn.linear_model.ElasticNetCV.html\n",
    "random_seed = 0\n",
    "alpha = 100 # How many random alphas to test\n",
    "tolerance = 1e-6 # Max iterations for testing each alpha\n",
    "cross_val = 50 #how many cross validation folds\n",
    "cpu_amount = 4 #How many cpu threads to employ for ML training, more cpu allocation correlates with reduced amount of time for training\n",
    "l1_ratio_list = [0.015] #give a list of l1ratios and the ratio with the lowest MSE will be selected. I recommend l1ratio of 0.01, although the journal does not mention the exact ratio.\n"
   ]
  },
  {
   "cell_type": "markdown",
   "metadata": {},
   "source": [
    "Training the model"
   ]
  },
  {
   "cell_type": "code",
   "execution_count": 4,
   "metadata": {},
   "outputs": [],
   "source": [
    "\n",
    "MTEN = MultiTaskElasticNetCV( n_alphas=alpha, tol = tolerance, cv=cross_val, n_jobs=cpu_amount, l1_ratio=l1_ratio_list, random_state=random_seed)\n",
    "\n",
    "#Train the model\n",
    "trained_MTEN = MTEN.fit(X_train_scaled,y_train)"
   ]
  },
  {
   "attachments": {},
   "cell_type": "markdown",
   "metadata": {},
   "source": [
    "Extract & filter the coefficients of the trained model.\n",
    "Save to CSV file"
   ]
  },
  {
   "cell_type": "code",
   "execution_count": 7,
   "metadata": {},
   "outputs": [],
   "source": [
    "processed_data = pd.DataFrame(trained_MTEN.coef_, columns=X_data.columns , index=['AMP IC50', 'CIP IC50', 'GENT IC50'])\n",
    "\n",
    "processed_data = processed_data.transpose()\n",
    "processed_data.to_csv('whitebox_coef.csv')"
   ]
  }
 ],
 "metadata": {
  "kernelspec": {
   "display_name": "VENV-38_whitebox",
   "language": "python",
   "name": "python3"
  },
  "language_info": {
   "codemirror_mode": {
    "name": "ipython",
    "version": 3
   },
   "file_extension": ".py",
   "mimetype": "text/x-python",
   "name": "python",
   "nbconvert_exporter": "python",
   "pygments_lexer": "ipython3",
   "version": "3.8.10"
  }
 },
 "nbformat": 4,
 "nbformat_minor": 2
}
